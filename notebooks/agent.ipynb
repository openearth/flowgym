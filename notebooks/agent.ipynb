{
 "cells": [
  {
   "cell_type": "code",
   "execution_count": 1,
   "id": "33daab58",
   "metadata": {},
   "outputs": [],
   "source": [
    "import platform\n",
    "import tensorflow as tf\n",
    "\n",
    "# Windows GPU is broken with tf_agent dqn. \n",
    "if platform.uname().system == 'Windows':\n",
    "    tf.config.set_visible_devices([], 'GPU')"
   ]
  },
  {
   "cell_type": "code",
   "execution_count": 2,
   "id": "8a9b5503",
   "metadata": {},
   "outputs": [],
   "source": [
    "import gym\n",
    "import gym.utils.env_checker\n",
    "import numpy as np\n",
    "\n",
    "import flowgym\n",
    "import flowgym.utils\n",
    "\n",
    "import tensorflow as tf\n",
    "\n",
    "import tf_agents.environments.gym_wrapper\n",
    "import tf_agents.networks\n",
    "import tf_agents.agents.dqn\n",
    "import tf_agents.replay_buffers\n",
    "import tf_agents.drivers\n",
    "\n",
    "import tqdm.notebook as tqdm\n",
    "import matplotlib.pyplot as plt\n",
    "\n",
    "%matplotlib inline"
   ]
  },
  {
   "cell_type": "code",
   "execution_count": 3,
   "id": "da4bfbce",
   "metadata": {},
   "outputs": [],
   "source": [
    "env = gym.make('flowgym/WorldEnv-v0')\n",
    "learning_rate = 0.001"
   ]
  },
  {
   "cell_type": "code",
   "execution_count": 4,
   "id": "277a47ba",
   "metadata": {},
   "outputs": [
    {
     "ename": "AttributeError",
     "evalue": "'WorldEnv' object has no attribute 'np_random'",
     "output_type": "error",
     "traceback": [
      "\u001b[1;31m---------------------------------------------------------------------------\u001b[0m",
      "\u001b[1;31mAttributeError\u001b[0m                            Traceback (most recent call last)",
      "Input \u001b[1;32mIn [4]\u001b[0m, in \u001b[0;36m<cell line: 1>\u001b[1;34m()\u001b[0m\n\u001b[1;32m----> 1\u001b[0m obs \u001b[38;5;241m=\u001b[39m \u001b[43menv\u001b[49m\u001b[38;5;241;43m.\u001b[39;49m\u001b[43mreset\u001b[49m\u001b[43m(\u001b[49m\u001b[43mseed\u001b[49m\u001b[38;5;241;43m=\u001b[39;49m\u001b[38;5;241;43m42\u001b[39;49m\u001b[43m)\u001b[49m\n\u001b[0;32m      2\u001b[0m obs\n",
      "File \u001b[1;32mD:\\ENGINES\\AI\\branches\\flowgym_branches\\venv\\lib\\site-packages\\gym\\wrappers\\order_enforcing.py:16\u001b[0m, in \u001b[0;36mOrderEnforcing.reset\u001b[1;34m(self, **kwargs)\u001b[0m\n\u001b[0;32m     14\u001b[0m \u001b[38;5;28;01mdef\u001b[39;00m \u001b[38;5;21mreset\u001b[39m(\u001b[38;5;28mself\u001b[39m, \u001b[38;5;241m*\u001b[39m\u001b[38;5;241m*\u001b[39mkwargs):\n\u001b[0;32m     15\u001b[0m     \u001b[38;5;28mself\u001b[39m\u001b[38;5;241m.\u001b[39m_has_reset \u001b[38;5;241m=\u001b[39m \u001b[38;5;28;01mTrue\u001b[39;00m\n\u001b[1;32m---> 16\u001b[0m     \u001b[38;5;28;01mreturn\u001b[39;00m \u001b[38;5;28;43mself\u001b[39;49m\u001b[38;5;241;43m.\u001b[39;49m\u001b[43menv\u001b[49m\u001b[38;5;241;43m.\u001b[39;49m\u001b[43mreset\u001b[49m\u001b[43m(\u001b[49m\u001b[38;5;241;43m*\u001b[39;49m\u001b[38;5;241;43m*\u001b[39;49m\u001b[43mkwargs\u001b[49m\u001b[43m)\u001b[49m\n",
      "File \u001b[1;32md:\\engines\\ai\\branches\\flowgym_branches\\flowgym\\envs\\flow2d.py:81\u001b[0m, in \u001b[0;36mWorldEnv.reset\u001b[1;34m(self, seed, return_info, options)\u001b[0m\n\u001b[0;32m     76\u001b[0m \u001b[38;5;28mself\u001b[39m\u001b[38;5;241m.\u001b[39mpositions \u001b[38;5;241m=\u001b[39m []\n\u001b[0;32m     78\u001b[0m \u001b[38;5;66;03m# Choose the agent's location uniformly at random\u001b[39;00m\n\u001b[0;32m     79\u001b[0m \n\u001b[0;32m     80\u001b[0m \u001b[38;5;66;03m# agent_shape = self.observation_space[\"agent\"].shape\u001b[39;00m\n\u001b[1;32m---> 81\u001b[0m \u001b[38;5;28mself\u001b[39m\u001b[38;5;241m.\u001b[39m_agent_position \u001b[38;5;241m=\u001b[39m \u001b[38;5;28;43mself\u001b[39;49m\u001b[38;5;241;43m.\u001b[39;49m\u001b[43mnp_random\u001b[49m\u001b[38;5;241m.\u001b[39muniform(\n\u001b[0;32m     82\u001b[0m     low\u001b[38;5;241m=\u001b[39m\u001b[38;5;241m0\u001b[39m, high\u001b[38;5;241m=\u001b[39m\u001b[38;5;28mself\u001b[39m\u001b[38;5;241m.\u001b[39mgrid_size, size\u001b[38;5;241m=\u001b[39m(\u001b[38;5;241m2\u001b[39m,)\n\u001b[0;32m     83\u001b[0m )\u001b[38;5;241m.\u001b[39mastype(\u001b[38;5;28mself\u001b[39m\u001b[38;5;241m.\u001b[39mdtype)\n\u001b[0;32m     85\u001b[0m \u001b[38;5;66;03m# We will sample the target's location randomly until it does not coincide with the agent's location\u001b[39;00m\n\u001b[0;32m     87\u001b[0m \u001b[38;5;28mself\u001b[39m\u001b[38;5;241m.\u001b[39m_target_position \u001b[38;5;241m=\u001b[39m \u001b[38;5;28mself\u001b[39m\u001b[38;5;241m.\u001b[39m_agent_position\n",
      "\u001b[1;31mAttributeError\u001b[0m: 'WorldEnv' object has no attribute 'np_random'"
     ]
    }
   ],
   "source": [
    "obs = env.reset(seed=42)\n",
    "obs"
   ]
  },
  {
   "cell_type": "code",
   "execution_count": null,
   "id": "9ed7d283-7660-43db-8e59-b87df00e8591",
   "metadata": {},
   "outputs": [],
   "source": [
    "for i in range(10):\n",
    "    env.step(1)\n",
    "env.render()\n",
    "\n"
   ]
  },
  {
   "cell_type": "markdown",
   "id": "06b1ff6e",
   "metadata": {},
   "source": [
    "# Wrap OpenAI Gym environment in Tensorflow Agent Environment\n",
    "The gym environment provides a python/numpy environment. Tensorflow has slightly different names for variables (space is called spec). It also wants to wrap numpy arrays as tensors, so that they can be moved to the GPU for training. "
   ]
  },
  {
   "cell_type": "code",
   "execution_count": null,
   "id": "1ec25e15",
   "metadata": {},
   "outputs": [],
   "source": [
    "env.reset()\n",
    "py_env = tf_agents.environments.gym_wrapper.GymWrapper(gym_env=env)\n",
    "tf_env = tf_agents.environments.tf_py_environment.TFPyEnvironment(py_env)\n"
   ]
  },
  {
   "cell_type": "code",
   "execution_count": null,
   "id": "d8d1ed1c-3d48-479d-9d9f-2ccb97aeba55",
   "metadata": {},
   "outputs": [],
   "source": [
    "print('Observation Spec:')\n",
    "print(tf_env.time_step_spec().observation)"
   ]
  },
  {
   "cell_type": "code",
   "execution_count": null,
   "id": "e6e4fe2f-7963-425b-bb53-ab4bf369d0bc",
   "metadata": {},
   "outputs": [],
   "source": [
    "print('Reward Spec:')\n",
    "print(tf_env.time_step_spec().reward)"
   ]
  },
  {
   "cell_type": "code",
   "execution_count": null,
   "id": "9cf353a2-bdb9-498b-8d99-2d98d86abe31",
   "metadata": {},
   "outputs": [],
   "source": [
    "print('Action Spec:')\n",
    "print(tf_env.action_spec())"
   ]
  },
  {
   "cell_type": "markdown",
   "id": "ea3c2119",
   "metadata": {},
   "source": [
    "# Create the Neural Network\n",
    "We will use a QNetwork, a simple 1D perceptron layer as a training network. We could make this smarter, but for now this is sufficient. We need to combine our three imputs (velocity, target, agent) to a 1d vector. We will just  flatten and concatenate all our numbers into a (255x255x2 + 2 + 2) vector for this. "
   ]
  },
  {
   "cell_type": "code",
   "execution_count": null,
   "id": "e9a08f80",
   "metadata": {},
   "outputs": [],
   "source": [
    "# preprocessing_layers = {\n",
    "#     'target': tf.keras.layers.Flatten(),\n",
    "#     'agent': tf.keras.layers.Flatten()\n",
    "# }\n",
    "# preprocessing_combiner = tf.keras.layers.Concatenate()\n",
    "\n",
    "q_net = tf_agents.networks.q_network.QNetwork(\n",
    "    tf_env.observation_spec(),\n",
    "    tf_env.action_spec(),\n",
    "    fc_layer_params=(100, ),\n",
    "    dtype=env.dtype,\n",
    "    # preprocessing_layers=preprocessing_layers,\n",
    "    # preprocessing_combiner=preprocessing_combiner\n",
    ")\n"
   ]
  },
  {
   "cell_type": "markdown",
   "id": "bef583c1",
   "metadata": {},
   "source": [
    "# Optimizer\n",
    "We need to define an algorithm that will optimize. An Adam optimizer is quite common. The learning rate is a hyper parameter, specified on top of the notebook. "
   ]
  },
  {
   "cell_type": "code",
   "execution_count": null,
   "id": "2b7c2e9c",
   "metadata": {},
   "outputs": [],
   "source": [
    "optimizer = tf.keras.optimizers.Adam(learning_rate=learning_rate)\n",
    "td_errors_loss = tf_agents.utils.common.element_wise_squared_loss\n"
   ]
  },
  {
   "cell_type": "markdown",
   "id": "75d57f90",
   "metadata": {},
   "source": [
    "# Make the Agent\n",
    "Now that we have our environment, network and optimizer defined, we can now create an agent. "
   ]
  },
  {
   "cell_type": "code",
   "execution_count": null,
   "id": "93233f42-3796-491d-a48e-ba50bdc61b69",
   "metadata": {},
   "outputs": [],
   "source": [
    "agent = tf_agents.agents.dqn.dqn_agent.DqnAgent(\n",
    "  tf_env.time_step_spec(),\n",
    "  tf_env.action_spec(),\n",
    "  q_network=q_net,\n",
    "  optimizer=optimizer,\n",
    "  td_errors_loss_fn=td_errors_loss,\n",
    "  train_step_counter=tf.Variable(0))\n",
    "\n",
    "agent.initialize()"
   ]
  },
  {
   "cell_type": "code",
   "execution_count": null,
   "id": "eee23474-db28-4604-8939-9963c8a152d9",
   "metadata": {},
   "outputs": [],
   "source": [
    "time_step = tf_env.reset()\n",
    "print('Time step:')\n",
    "print(time_step)\n",
    "\n",
    "action = np.array(3, dtype=np.int32)\n",
    "\n",
    "next_time_step = tf_env.step(action)\n",
    "print('Next time step:')\n",
    "print(next_time_step)"
   ]
  },
  {
   "cell_type": "markdown",
   "id": "6f01be72",
   "metadata": {},
   "source": [
    "# Policy\n",
    "An agent can be trained. But it needs a policy to pick the best move based on the trained parameters. \n",
    "Let's start with a random policy. "
   ]
  },
  {
   "cell_type": "code",
   "execution_count": null,
   "id": "95b02481",
   "metadata": {},
   "outputs": [],
   "source": [
    "random_policy = tf_agents.policies.random_tf_policy.RandomTFPolicy(\n",
    "    tf_env.time_step_spec(),\n",
    "    tf_env.action_spec()\n",
    ")\n",
    "eval_policy = agent.policy\n",
    "collect_policy = agent.collect_policy"
   ]
  },
  {
   "cell_type": "code",
   "execution_count": null,
   "id": "6aad5611",
   "metadata": {},
   "outputs": [],
   "source": [
    "# Let's pick an action, given the current environment.\n",
    "# This policy will not use the agent but pick a random action. \n",
    "time_step = tf_env.reset()\n",
    "random_policy.action(time_step)"
   ]
  },
  {
   "cell_type": "markdown",
   "id": "9b74be3f",
   "metadata": {},
   "source": [
    "# Replay buffer\n",
    "Before we can train our agent we also need to define the data collection. Based on the collect_data_spec we can setup a replay buffer. Based on the buffer we can setup a replay observer. "
   ]
  },
  {
   "cell_type": "code",
   "execution_count": null,
   "id": "0905806b",
   "metadata": {},
   "outputs": [],
   "source": [
    "replay_buffer_capacity = 1000\n",
    "\n",
    "replay_buffer = tf_agents.replay_buffers.tf_uniform_replay_buffer.TFUniformReplayBuffer(\n",
    "    agent.collect_data_spec,\n",
    "    batch_size=tf_env.batch_size,\n",
    "    max_length=replay_buffer_capacity\n",
    ")\n",
    "\n",
    "replay_observer = [replay_buffer.add_batch]"
   ]
  },
  {
   "cell_type": "markdown",
   "id": "ab27180c",
   "metadata": {},
   "source": [
    "# Driver\n",
    "Now we can use the replay_observer to define a data collection driver. "
   ]
  },
  {
   "cell_type": "code",
   "execution_count": null,
   "id": "2adfc299",
   "metadata": {},
   "outputs": [],
   "source": [
    "collect_steps_per_iteration = 10\n",
    "collect_op = tf_agents.drivers.dynamic_step_driver.DynamicStepDriver(\n",
    "  tf_env,\n",
    "  agent.collect_policy,\n",
    "  observers=replay_observer,\n",
    "  num_steps=collect_steps_per_iteration\n",
    ").run()"
   ]
  },
  {
   "cell_type": "markdown",
   "id": "9db7c047",
   "metadata": {},
   "source": [
    "# Dataset\n",
    "Now we can create a dataset from the buffer. We can pass the iterator over the dataset to store our experience."
   ]
  },
  {
   "cell_type": "code",
   "execution_count": null,
   "id": "4b6e8c4a",
   "metadata": {},
   "outputs": [],
   "source": [
    "\n",
    "dataset = replay_buffer.as_dataset(\n",
    "    sample_batch_size=tf_env.batch_size,\n",
    "    num_steps=2\n",
    ")\n",
    "\n",
    "iterator = iter(dataset)\n",
    "\n"
   ]
  },
  {
   "cell_type": "code",
   "execution_count": null,
   "id": "33aa3495",
   "metadata": {},
   "outputs": [],
   "source": [
    "collect_steps_per_iteration"
   ]
  },
  {
   "cell_type": "markdown",
   "id": "fad17419",
   "metadata": {},
   "source": [
    "# Let's start training."
   ]
  },
  {
   "cell_type": "code",
   "execution_count": null,
   "id": "658f0c06",
   "metadata": {},
   "outputs": [],
   "source": [
    "num_train_steps = 200\n",
    "losses = []\n",
    "for _ in tqdm.tqdm(range(num_train_steps), desc='gather data'):\n",
    "    tf_env.reset()\n",
    "    for i in range(collect_steps_per_iteration):\n",
    "        time_step = tf_env.current_time_step()\n",
    "        # action_step = random_policy.action(time_step)\n",
    "        action_step = agent.policy.action(time_step)\n",
    "        next_time_step = tf_env.step(action_step.action)\n",
    "        traj = tf_agents.trajectories.trajectory.from_transition(time_step, action_step, next_time_step)\n",
    "\n",
    "        # Add trajectory to the replay buffer\n",
    "        replay_buffer.add_batch(traj)    \n",
    "\n",
    "    experience, _ = next(iterator)\n",
    "    loss = agent.train(experience=experience)\n",
    "    losses.append(loss)\n",
    "    if i > num_train_steps * collect_steps_per_iteration:\n",
    "        break\n",
    "    "
   ]
  },
  {
   "cell_type": "code",
   "execution_count": 21,
   "id": "040523ac",
   "metadata": {},
   "outputs": [
    {
     "data": {
      "text/plain": [
       "[<matplotlib.lines.Line2D at 0x2db174730>]"
      ]
     },
     "execution_count": 21,
     "metadata": {},
     "output_type": "execute_result"
    },
    {
     "data": {
      "image/png": "[encoded data removed]",
      "text/plain": [
       "<Figure size 432x288 with 1 Axes>"
      ]
     },
     "metadata": {
      "needs_background": "light"
     },
     "output_type": "display_data"
    }
   ],
   "source": [
    "import pandas as pd\n",
    "df = pd.DataFrame(losses)\n",
    "df['loss'] = df.loss.apply(lambda x: x.numpy())\n",
    "plt.plot(df['loss'])\n"
   ]
  },
  {
   "cell_type": "code",
   "execution_count": 22,
   "id": "5843e7da",
   "metadata": {},
   "outputs": [],
   "source": [
    "actions = []\n",
    "env.reset()\n",
    "step = tf_env.reset()\n",
    "steps = [step]\n",
    "positions = []\n",
    "for i in range(100):\n",
    "    action = agent.policy.action(step)\n",
    "    step = tf_env.step(action)        \n",
    "    actions.append(action)\n",
    "    steps.append(step)"
   ]
  },
  {
   "cell_type": "code",
   "execution_count": 23,
   "id": "a03c1074-82c8-43ad-aeee-d3a5f6ac78ad",
   "metadata": {},
   "outputs": [
    {
     "data": {
      "image/png": "[encoded data removed]",
      "text/plain": [
       "<Figure size 432x288 with 1 Axes>"
      ]
     },
     "metadata": {
      "needs_background": "light"
     },
     "output_type": "display_data"
    }
   ],
   "source": [
    "env.render()\n"
   ]
  },
  {
   "cell_type": "code",
   "execution_count": 24,
   "id": "19f9ed6a-08c9-47de-89c7-0eb8e4a15413",
   "metadata": {},
   "outputs": [
    {
     "data": {
      "text/plain": [
       "array([214.07877  ,   4.6490993, 152.50273  ,  59.207817 ], dtype=float32)"
      ]
     },
     "execution_count": 24,
     "metadata": {},
     "output_type": "execute_result"
    }
   ],
   "source": [
    "env.reset()"
   ]
  },
  {
   "cell_type": "code",
   "execution_count": null,
   "id": "dddca214-2799-4494-afcd-0a8b736f58f7",
   "metadata": {},
   "outputs": [],
   "source": []
  }
 ],
 "metadata": {
  "kernelspec": {
   "display_name": "Python 3 (ipykernel)",
   "language": "python",
   "name": "python3"
  },
  "language_info": {
   "codemirror_mode": {
    "name": "ipython",
    "version": 3
   },
   "file_extension": ".py",
   "mimetype": "text/x-python",
   "name": "python",
   "nbconvert_exporter": "python",
   "pygments_lexer": "ipython3",
   "version": "3.8.6"
  },
  "vscode": {
   "interpreter": {
    "hash": "2bf794f131b7814489345501d7b86919b514744037cc909cdb8990029776c089"
   }
  }
 },
 "nbformat": 4,
 "nbformat_minor": 5
}
