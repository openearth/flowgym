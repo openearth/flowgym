{
 "cells": [
  {
   "cell_type": "code",
   "execution_count": 1,
   "id": "33daab58",
   "metadata": {},
   "outputs": [],
   "source": [
    "import platform\n",
    "import tensorflow as tf\n",
    "\n",
    "# Windows GPU is broken with tf_agent dqn. \n",
    "if platform.uname().system == 'Windows':\n",
    "    tf.config.set_visible_devices([], 'GPU')"
   ]
  },
  {
   "cell_type": "code",
   "execution_count": 2,
   "id": "8a9b5503",
   "metadata": {},
   "outputs": [],
   "source": [
    "import gym\n",
    "import gym.utils.env_checker\n",
    "import numpy as np\n",
    "\n",
    "import flowgym\n",
    "import flowgym.utils\n",
    "\n",
    "import tensorflow as tf\n",
    "\n",
    "import tf_agents.environments.gym_wrapper\n",
    "import tf_agents.networks\n",
    "import tf_agents.agents.dqn\n",
    "import tf_agents.replay_buffers\n",
    "import tf_agents.drivers\n",
    "\n",
    "import tqdm.notebook as tqdm\n",
    "import matplotlib.pyplot as plt\n",
    "\n",
    "%matplotlib inline"
   ]
  },
  {
   "cell_type": "code",
   "execution_count": 3,
   "id": "da4bfbce",
   "metadata": {},
   "outputs": [],
   "source": [
    "env = gym.make('flowgym/WorldEnv-v0')\n",
    "learning_rate = 0.001"
   ]
  },
  {
   "cell_type": "code",
   "execution_count": 4,
   "id": "277a47ba",
   "metadata": {},
   "outputs": [
    {
     "data": {
      "text/plain": [
       "array([198.13275, 112.35288, 219.80107, 178.52621], dtype=float32)"
      ]
     },
     "execution_count": 4,
     "metadata": {},
     "output_type": "execute_result"
    }
   ],
   "source": [
    "obs = env.reset(seed=42)\n",
    "obs"
   ]
  },
  {
   "cell_type": "code",
   "execution_count": 5,
   "id": "9ed7d283-7660-43db-8e59-b87df00e8591",
   "metadata": {},
   "outputs": [
    {
     "data": {
      "image/png": "[encoded data removed]",
      "text/plain": [
       "<Figure size 640x480 with 1 Axes>"
      ]
     },
     "metadata": {},
     "output_type": "display_data"
    }
   ],
   "source": [
    "for i in range(10):\n",
    "    env.step(1)\n",
    "env.render()\n",
    "\n"
   ]
  },
  {
   "cell_type": "markdown",
   "id": "06b1ff6e",
   "metadata": {},
   "source": [
    "# Wrap OpenAI Gym environment in Tensorflow Agent Environment\n",
    "The gym environment provides a python/numpy environment. Tensorflow has slightly different names for variables (space is called spec). It also wants to wrap numpy arrays as tensors, so that they can be moved to the GPU for training. "
   ]
  },
  {
   "cell_type": "code",
   "execution_count": 6,
   "id": "1ec25e15",
   "metadata": {},
   "outputs": [],
   "source": [
    "env.reset()\n",
    "py_env = tf_agents.environments.gym_wrapper.GymWrapper(gym_env=env)\n",
    "tf_env = tf_agents.environments.tf_py_environment.TFPyEnvironment(py_env)\n"
   ]
  },
  {
   "cell_type": "code",
   "execution_count": 7,
   "id": "d8d1ed1c-3d48-479d-9d9f-2ccb97aeba55",
   "metadata": {},
   "outputs": [
    {
     "name": "stdout",
     "output_type": "stream",
     "text": [
      "Observation Spec:\n",
      "BoundedTensorSpec(shape=(4,), dtype=tf.float32, name='observation', minimum=array(0., dtype=float32), maximum=array(256., dtype=float32))\n"
     ]
    }
   ],
   "source": [
    "print('Observation Spec:')\n",
    "print(tf_env.time_step_spec().observation)"
   ]
  },
  {
   "cell_type": "code",
   "execution_count": 8,
   "id": "e6e4fe2f-7963-425b-bb53-ab4bf369d0bc",
   "metadata": {},
   "outputs": [
    {
     "name": "stdout",
     "output_type": "stream",
     "text": [
      "Reward Spec:\n",
      "TensorSpec(shape=(), dtype=tf.float32, name='reward')\n"
     ]
    }
   ],
   "source": [
    "print('Reward Spec:')\n",
    "print(tf_env.time_step_spec().reward)"
   ]
  },
  {
   "cell_type": "code",
   "execution_count": 9,
   "id": "9cf353a2-bdb9-498b-8d99-2d98d86abe31",
   "metadata": {},
   "outputs": [
    {
     "name": "stdout",
     "output_type": "stream",
     "text": [
      "Action Spec:\n",
      "BoundedTensorSpec(shape=(), dtype=tf.int64, name='action', minimum=array(0, dtype=int64), maximum=array(3, dtype=int64))\n"
     ]
    }
   ],
   "source": [
    "print('Action Spec:')\n",
    "print(tf_env.action_spec())"
   ]
  },
  {
   "cell_type": "markdown",
   "id": "ea3c2119",
   "metadata": {},
   "source": [
    "# Create the Neural Network\n",
    "We will use a QNetwork, a simple 1D perceptron layer as a training network. We could make this smarter, but for now this is sufficient. We need to combine our three imputs (velocity, target, agent) to a 1d vector. We will just  flatten and concatenate all our numbers into a (255x255x2 + 2 + 2) vector for this. "
   ]
  },
  {
   "cell_type": "code",
   "execution_count": 10,
   "id": "e9a08f80",
   "metadata": {},
   "outputs": [],
   "source": [
    "# preprocessing_layers = {\n",
    "#     'target': tf.keras.layers.Flatten(),\n",
    "#     'agent': tf.keras.layers.Flatten()\n",
    "# }\n",
    "# preprocessing_combiner = tf.keras.layers.Concatenate()\n",
    "\n",
    "q_net = tf_agents.networks.q_network.QNetwork(\n",
    "    tf_env.observation_spec(),\n",
    "    tf_env.action_spec(),\n",
    "    fc_layer_params=(100, ),\n",
    "    dtype=env.dtype,\n",
    "    # preprocessing_layers=preprocessing_layers,\n",
    "    # preprocessing_combiner=preprocessing_combiner\n",
    ")\n"
   ]
  },
  {
   "cell_type": "markdown",
   "id": "bef583c1",
   "metadata": {},
   "source": [
    "# Optimizer\n",
    "We need to define an algorithm that will optimize. An Adam optimizer is quite common. The learning rate is a hyper parameter, specified on top of the notebook. "
   ]
  },
  {
   "cell_type": "code",
   "execution_count": 11,
   "id": "2b7c2e9c",
   "metadata": {},
   "outputs": [],
   "source": [
    "optimizer = tf.keras.optimizers.Adam(learning_rate=learning_rate)\n",
    "td_errors_loss = tf_agents.utils.common.element_wise_squared_loss\n"
   ]
  },
  {
   "cell_type": "markdown",
   "id": "75d57f90",
   "metadata": {},
   "source": [
    "# Make the Agent\n",
    "Now that we have our environment, network and optimizer defined, we can now create an agent. "
   ]
  },
  {
   "cell_type": "code",
   "execution_count": 12,
   "id": "93233f42-3796-491d-a48e-ba50bdc61b69",
   "metadata": {},
   "outputs": [],
   "source": [
    "agent = tf_agents.agents.dqn.dqn_agent.DqnAgent(\n",
    "  tf_env.time_step_spec(),\n",
    "  tf_env.action_spec(),\n",
    "  q_network=q_net,\n",
    "  optimizer=optimizer,\n",
    "  td_errors_loss_fn=td_errors_loss,\n",
    "  train_step_counter=tf.Variable(0))\n",
    "\n",
    "agent.initialize()"
   ]
  },
  {
   "cell_type": "code",
   "execution_count": 13,
   "id": "eee23474-db28-4604-8939-9963c8a152d9",
   "metadata": {},
   "outputs": [
    {
     "name": "stdout",
     "output_type": "stream",
     "text": [
      "Time step:\n",
      "TimeStep(\n",
      "{'discount': <tf.Tensor: shape=(1,), dtype=float32, numpy=array([1.], dtype=float32)>,\n",
      " 'observation': <tf.Tensor: shape=(1, 4), dtype=float32, numpy=array([[ 32.79709, 115.2988 ,  94.92429, 237.25183]], dtype=float32)>,\n",
      " 'reward': <tf.Tensor: shape=(1,), dtype=float32, numpy=array([0.], dtype=float32)>,\n",
      " 'step_type': <tf.Tensor: shape=(1,), dtype=int32, numpy=array([0])>})\n",
      "Next time step:\n",
      "TimeStep(\n",
      "{'discount': <tf.Tensor: shape=(1,), dtype=float32, numpy=array([1.], dtype=float32)>,\n",
      " 'observation': <tf.Tensor: shape=(1, 4), dtype=float32, numpy=array([[ 32.79709, 114.2988 ,  94.92429, 237.25183]], dtype=float32)>,\n",
      " 'reward': <tf.Tensor: shape=(1,), dtype=float32, numpy=array([-0.00651586], dtype=float32)>,\n",
      " 'step_type': <tf.Tensor: shape=(1,), dtype=int32, numpy=array([1])>})\n"
     ]
    }
   ],
   "source": [
    "time_step = tf_env.reset()\n",
    "print('Time step:')\n",
    "print(time_step)\n",
    "\n",
    "action = np.array(3, dtype=np.int32)\n",
    "\n",
    "next_time_step = tf_env.step(action)\n",
    "print('Next time step:')\n",
    "print(next_time_step)"
   ]
  },
  {
   "cell_type": "markdown",
   "id": "6f01be72",
   "metadata": {},
   "source": [
    "# Policy\n",
    "An agent can be trained. But it needs a policy to pick the best move based on the trained parameters. \n",
    "Let's start with a random policy. "
   ]
  },
  {
   "cell_type": "code",
   "execution_count": 14,
   "id": "95b02481",
   "metadata": {},
   "outputs": [],
   "source": [
    "random_policy = tf_agents.policies.random_tf_policy.RandomTFPolicy(\n",
    "    tf_env.time_step_spec(),\n",
    "    tf_env.action_spec()\n",
    ")\n",
    "eval_policy = agent.policy\n",
    "collect_policy = agent.collect_policy"
   ]
  },
  {
   "cell_type": "code",
   "execution_count": 15,
   "id": "6aad5611",
   "metadata": {},
   "outputs": [
    {
     "data": {
      "text/plain": [
       "PolicyStep(action=<tf.Tensor: shape=(1,), dtype=int64, numpy=array([3], dtype=int64)>, state=(), info=())"
      ]
     },
     "execution_count": 15,
     "metadata": {},
     "output_type": "execute_result"
    }
   ],
   "source": [
    "# Let's pick an action, given the current environment.\n",
    "# This policy will not use the agent but pick a random action. \n",
    "time_step = tf_env.reset()\n",
    "random_policy.action(time_step)"
   ]
  },
  {
   "cell_type": "markdown",
   "id": "9b74be3f",
   "metadata": {},
   "source": [
    "# Replay buffer\n",
    "Before we can train our agent we also need to define the data collection. Based on the collect_data_spec we can setup a replay buffer. Based on the buffer we can setup a replay observer. "
   ]
  },
  {
   "cell_type": "code",
   "execution_count": 16,
   "id": "0905806b",
   "metadata": {},
   "outputs": [],
   "source": [
    "replay_buffer_capacity = 1000\n",
    "\n",
    "replay_buffer = tf_agents.replay_buffers.tf_uniform_replay_buffer.TFUniformReplayBuffer(\n",
    "    agent.collect_data_spec,\n",
    "    batch_size=tf_env.batch_size,\n",
    "    max_length=replay_buffer_capacity\n",
    ")\n",
    "\n",
    "replay_observer = [replay_buffer.add_batch]"
   ]
  },
  {
   "cell_type": "markdown",
   "id": "ab27180c",
   "metadata": {},
   "source": [
    "# Driver\n",
    "Now we can use the replay_observer to define a data collection driver. "
   ]
  },
  {
   "cell_type": "code",
   "execution_count": 17,
   "id": "2adfc299",
   "metadata": {},
   "outputs": [],
   "source": [
    "collect_steps_per_iteration = 10\n",
    "collect_op = tf_agents.drivers.dynamic_step_driver.DynamicStepDriver(\n",
    "  tf_env,\n",
    "  agent.collect_policy,\n",
    "  observers=replay_observer,\n",
    "  num_steps=collect_steps_per_iteration\n",
    ").run()"
   ]
  },
  {
   "cell_type": "markdown",
   "id": "9db7c047",
   "metadata": {},
   "source": [
    "# Dataset\n",
    "Now we can create a dataset from the buffer. We can pass the iterator over the dataset to store our experience."
   ]
  },
  {
   "cell_type": "code",
   "execution_count": 18,
   "id": "4b6e8c4a",
   "metadata": {},
   "outputs": [
    {
     "name": "stdout",
     "output_type": "stream",
     "text": [
      "WARNING:tensorflow:From D:\\ENGINES\\AI\\branches\\flowgym_branches\\venv\\lib\\site-packages\\tensorflow\\python\\autograph\\impl\\api.py:377: ReplayBuffer.get_next (from tf_agents.replay_buffers.replay_buffer) is deprecated and will be removed in a future version.\n",
      "Instructions for updating:\n",
      "Use `as_dataset(..., single_deterministic_pass=False) instead.\n"
     ]
    }
   ],
   "source": [
    "\n",
    "dataset = replay_buffer.as_dataset(\n",
    "    sample_batch_size=tf_env.batch_size,\n",
    "    num_steps=2\n",
    ")\n",
    "\n",
    "iterator = iter(dataset)\n",
    "\n"
   ]
  },
  {
   "cell_type": "code",
   "execution_count": 19,
   "id": "33aa3495",
   "metadata": {},
   "outputs": [
    {
     "data": {
      "text/plain": [
       "10"
      ]
     },
     "execution_count": 19,
     "metadata": {},
     "output_type": "execute_result"
    }
   ],
   "source": [
    "collect_steps_per_iteration"
   ]
  },
  {
   "cell_type": "markdown",
   "id": "fad17419",
   "metadata": {},
   "source": [
    "# Let's start training."
   ]
  },
  {
   "cell_type": "code",
   "execution_count": 20,
   "id": "658f0c06",
   "metadata": {},
   "outputs": [
    {
     "data": {
      "application/json": {
       "ascii": false,
       "bar_format": null,
       "colour": null,
       "elapsed": 0.016998291015625,
       "initial": 0,
       "n": 0,
       "ncols": null,
       "nrows": 29,
       "postfix": null,
       "prefix": "gather data",
       "rate": null,
       "total": 200,
       "unit": "it",
       "unit_divisor": 1000,
       "unit_scale": false
      },
      "application/vnd.jupyter.widget-view+json": {
       "model_id": "7f28e23bbf4f4ad58ca4e3fb605f7e70",
       "version_major": 2,
       "version_minor": 0
      },
      "text/plain": [
       "gather data:   0%|          | 0/200 [00:00<?, ?it/s]"
      ]
     },
     "metadata": {},
     "output_type": "display_data"
    },
    {
     "name": "stdout",
     "output_type": "stream",
     "text": [
      "WARNING:tensorflow:From D:\\ENGINES\\AI\\branches\\flowgym_branches\\venv\\lib\\site-packages\\tensorflow\\python\\util\\dispatch.py:1082: calling foldr_v2 (from tensorflow.python.ops.functional_ops) with back_prop=False is deprecated and will be removed in a future version.\n",
      "Instructions for updating:\n",
      "back_prop=False is deprecated. Consider using tf.stop_gradient instead.\n",
      "Instead of:\n",
      "results = tf.foldr(fn, elems, back_prop=False)\n",
      "Use:\n",
      "results = tf.nest.map_structure(tf.stop_gradient, tf.foldr(fn, elems))\n"
     ]
    }
   ],
   "source": [
    "num_train_steps = 200\n",
    "losses = []\n",
    "for _ in tqdm.tqdm(range(num_train_steps), desc='gather data'):\n",
    "    tf_env.reset()\n",
    "    for i in range(collect_steps_per_iteration):\n",
    "        time_step = tf_env.current_time_step()\n",
    "        # action_step = random_policy.action(time_step)\n",
    "        action_step = agent.policy.action(time_step)\n",
    "        next_time_step = tf_env.step(action_step.action)\n",
    "        traj = tf_agents.trajectories.trajectory.from_transition(time_step, action_step, next_time_step)\n",
    "\n",
    "        # Add trajectory to the replay buffer\n",
    "        replay_buffer.add_batch(traj)    \n",
    "\n",
    "    experience, _ = next(iterator)\n",
    "    loss = agent.train(experience=experience)\n",
    "    losses.append(loss)\n",
    "    if i > num_train_steps * collect_steps_per_iteration:\n",
    "        break\n",
    "    "
   ]
  },
  {
   "cell_type": "code",
   "execution_count": 21,
   "id": "040523ac",
   "metadata": {},
   "outputs": [
    {
     "data": {
      "text/plain": [
       "[<matplotlib.lines.Line2D at 0x243549e8130>]"
      ]
     },
     "execution_count": 21,
     "metadata": {},
     "output_type": "execute_result"
    },
    {
     "data": {
      "image/png": "[encoded data removed]",
      "text/plain": [
       "<Figure size 640x480 with 1 Axes>"
      ]
     },
     "metadata": {},
     "output_type": "display_data"
    }
   ],
   "source": [
    "import pandas as pd\n",
    "df = pd.DataFrame(losses)\n",
    "df['loss'] = df.loss.apply(lambda x: x.numpy())\n",
    "plt.plot(df['loss'])\n"
   ]
  },
  {
   "cell_type": "code",
   "execution_count": 24,
   "id": "5843e7da",
   "metadata": {},
   "outputs": [
    {
     "data": {
      "image/png": "[encoded data removed]",
      "text/plain": [
       "<Figure size 640x480 with 1 Axes>"
      ]
     },
     "metadata": {},
     "output_type": "display_data"
    }
   ],
   "source": [
    "actions = []\n",
    "env.reset()\n",
    "step = tf_env.reset()\n",
    "steps = [step]\n",
    "positions = []\n",
    "for i in range(100):\n",
    "    action = agent.policy.action(step)\n",
    "    step = tf_env.step(action)        \n",
    "    actions.append(action)\n",
    "    steps.append(step)\n",
    "    "
   ]
  },
  {
   "cell_type": "code",
   "execution_count": 25,
   "id": "a03c1074-82c8-43ad-aeee-d3a5f6ac78ad",
   "metadata": {},
   "outputs": [],
   "source": [
    "env.render()\n"
   ]
  },
  {
   "cell_type": "code",
   "execution_count": 26,
   "id": "19f9ed6a-08c9-47de-89c7-0eb8e4a15413",
   "metadata": {},
   "outputs": [
    {
     "data": {
      "text/plain": [
       "array([  3.1922886, 203.78331  , 133.1789   , 104.438126 ], dtype=float32)"
      ]
     },
     "execution_count": 26,
     "metadata": {},
     "output_type": "execute_result"
    }
   ],
   "source": [
    "env.reset()"
   ]
  },
  {
   "cell_type": "code",
   "execution_count": null,
   "id": "dddca214-2799-4494-afcd-0a8b736f58f7",
   "metadata": {},
   "outputs": [],
   "source": []
  }
 ],
 "metadata": {
  "kernelspec": {
   "display_name": "Python 3 (ipykernel)",
   "language": "python",
   "name": "python3"
  },
  "language_info": {
   "codemirror_mode": {
    "name": "ipython",
    "version": 3
   },
   "file_extension": ".py",
   "mimetype": "text/x-python",
   "name": "python",
   "nbconvert_exporter": "python",
   "pygments_lexer": "ipython3",
   "version": "3.8.6"
  },
  "vscode": {
   "interpreter": {
    "hash": "2bf794f131b7814489345501d7b86919b514744037cc909cdb8990029776c089"
   }
  }
 },
 "nbformat": 4,
 "nbformat_minor": 5
}
